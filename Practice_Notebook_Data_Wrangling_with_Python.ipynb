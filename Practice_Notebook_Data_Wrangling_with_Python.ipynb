{
  "nbformat": 4,
  "nbformat_minor": 0,
  "metadata": {
    "colab": {
      "name": "Practice Notebook: Data Wrangling with Python",
      "provenance": [],
      "collapsed_sections": [
        "pcxusFFvAC4A",
        "oZqlt-RYAD9W",
        "4c8lbnCpAKR7",
        "jmQzRWnBAUip",
        "SZOg8AbeAaub",
        "-1tL9P5BAhWS",
        "bISArgNWBxR-",
        "vAuIYctBB1ZX"
      ],
      "toc_visible": true,
      "include_colab_link": true
    },
    "kernelspec": {
      "name": "python3",
      "display_name": "Python 3"
    }
  },
  "cells": [
    {
      "cell_type": "markdown",
      "metadata": {
        "id": "view-in-github",
        "colab_type": "text"
      },
      "source": [
        "<a href=\"https://colab.research.google.com/github/pablohmoha/web-scraping-magic-with-scrapy-and-python/blob/master/Practice_Notebook_Data_Wrangling_with_Python.ipynb\" target=\"_parent\"><img src=\"https://colab.research.google.com/assets/colab-badge.svg\" alt=\"Open In Colab\"/></a>"
      ]
    },
    {
      "cell_type": "markdown",
      "metadata": {
        "id": "1f9HbIqC9Glg",
        "colab_type": "text"
      },
      "source": [
        "<font color=\"blue\">To use this notebook on Colaboratory, you will need to make a copy of it. Go to File > Save a Copy in Drive. You can then use the new copy that will appear in the new tab.</font>\n"
      ]
    },
    {
      "cell_type": "markdown",
      "metadata": {
        "id": "e6Z5SVjn9XxQ",
        "colab_type": "text"
      },
      "source": [
        "# Practice Notebook: Data Wrangling with Python"
      ]
    },
    {
      "cell_type": "markdown",
      "metadata": {
        "id": "pcxusFFvAC4A",
        "colab_type": "text"
      },
      "source": [
        "## Pre-requisites"
      ]
    },
    {
      "cell_type": "code",
      "metadata": {
        "id": "_-wn-gNt8_0R",
        "colab_type": "code",
        "colab": {}
      },
      "source": [
        "# Pre-requisite 1\n",
        "# ---\n",
        "# Importing pandas library for data manipulation\n",
        "# ---\n",
        "# OUR CODE GOES BELOW\n",
        "# \n",
        "import pandas as pd"
      ],
      "execution_count": 0,
      "outputs": []
    },
    {
      "cell_type": "code",
      "metadata": {
        "id": "nj8z63_CMpmb",
        "colab_type": "code",
        "colab": {}
      },
      "source": [
        "# Pre-requisite 2\n",
        "# ---\n",
        "# Importing numpy library for scientific computations\n",
        "# ---\n",
        "# OUR CODE GOES BELOW\n",
        "# \n",
        "import numpy as np"
      ],
      "execution_count": 0,
      "outputs": []
    },
    {
      "cell_type": "markdown",
      "metadata": {
        "id": "oZqlt-RYAD9W",
        "colab_type": "text"
      },
      "source": [
        "## 1. Reading Data"
      ]
    },
    {
      "cell_type": "code",
      "metadata": {
        "id": "GwZMMVOTAHbV",
        "colab_type": "code",
        "colab": {}
      },
      "source": [
        "# Example 1\n",
        "# --- \n",
        "# Loading a dataset (csv file) from a url \n",
        "# ---\n",
        "# Dataset url (csv file) = http://bit.ly/IrisDataset\n",
        "# ---\n",
        "# OUR CODE GOES BELOW\n",
        "# \n",
        "\n",
        "# Reading our csv file from the given url \n",
        "df = pd.read_csv(\"http://bit.ly/IrisDataset\")\n",
        "\n",
        "# Previewing the first 5 records\n",
        "df.head()"
      ],
      "execution_count": 0,
      "outputs": []
    },
    {
      "cell_type": "code",
      "metadata": {
        "id": "EUoQlxZpAM3Q",
        "colab_type": "code",
        "colab": {}
      },
      "source": [
        "# Challenge 1a\n",
        "# ---\n",
        "# Question: Load the following video games dataset and preview the first 5 records.\n",
        "# Hint: Use a different dataframe that the one used in the example dataset \n",
        "#       i.e. using the dataframe name \"video_df\" rather using the dataframe name \"df\"\n",
        "#       If you use the same dataframe names for the examples and challenges you \n",
        "#       might experience a crash.\n",
        "#       We will be using this dataset for most of the challenges.\n",
        "# ---\n",
        "# Dataset url (csv file) = http://bit.ly/VideoGamesSalesDataset\n",
        "# ---\n",
        "# OUR CODE GOES BELOW\n",
        "#\n"
      ],
      "execution_count": 0,
      "outputs": []
    },
    {
      "cell_type": "code",
      "metadata": {
        "id": "_Y1poor54Wa8",
        "colab_type": "code",
        "colab": {}
      },
      "source": [
        "# Challenge 1b\n",
        "# ---\n",
        "# Question: Load a dataset (excel file) from the url below\n",
        "# Hint: use the read_excel() function rather than using the read_csv() function\n",
        "# ---\n",
        "# Dataset url = http://bit.ly/WindmillDataset\n",
        "# ---\n",
        "# OUR CODE GOES BELOW\n",
        "#\n"
      ],
      "execution_count": 0,
      "outputs": []
    },
    {
      "cell_type": "markdown",
      "metadata": {
        "id": "4c8lbnCpAKR7",
        "colab_type": "text"
      },
      "source": [
        "## 2. Data Exploration"
      ]
    },
    {
      "cell_type": "code",
      "metadata": {
        "id": "CsUVqRqbATr0",
        "colab_type": "code",
        "colab": {}
      },
      "source": [
        "# Example 2a\n",
        "# ---\n",
        "# Determining the no. of records in the dataset \n",
        "# NB: We will use the above loaded dataset in example 1\n",
        "# ---\n",
        "# OUR CODE GOES BELOW\n",
        "#\n",
        "\n",
        "# Shape returns no. or records/instances (left) and columns/variables (right)\n",
        "#\n",
        "df.shape"
      ],
      "execution_count": 0,
      "outputs": []
    },
    {
      "cell_type": "code",
      "metadata": {
        "id": "RvZTev3C37-2",
        "colab_type": "code",
        "colab": {}
      },
      "source": [
        "# Challenge 2a\n",
        "# ---\n",
        "# Question: Determine the no. of records in the our video games dataset.\n",
        "# ---  \n",
        "# OUR CODE GOES BELOW\n",
        "#\n"
      ],
      "execution_count": 0,
      "outputs": []
    },
    {
      "cell_type": "code",
      "metadata": {
        "id": "sWVV3zfwGgHK",
        "colab_type": "code",
        "colab": {}
      },
      "source": [
        "# Example 2b\n",
        "# ---\n",
        "# Previewing the last few records/instances of our dataset\n",
        "# NB: last() gives us the last 5 records/instances\n",
        "# ---\n",
        "# OUR CODE GOES BELOW\n",
        "#\n",
        "df.tail()"
      ],
      "execution_count": 0,
      "outputs": []
    },
    {
      "cell_type": "code",
      "metadata": {
        "id": "s96T5zy34jZh",
        "colab_type": "code",
        "colab": {}
      },
      "source": [
        "# Challenge 2c\n",
        "# ---\n",
        "# Question: Preview the last few records in the video games dataset.\n",
        "# Hint = Use the dataframe you created for this dataset. \n",
        "# ---\n",
        "# OUR CODE GOES BELOW\n",
        "#\n"
      ],
      "execution_count": 0,
      "outputs": []
    },
    {
      "cell_type": "code",
      "metadata": {
        "id": "dx2kj5ZHGu-y",
        "colab_type": "code",
        "colab": {}
      },
      "source": [
        "# Example 2c\n",
        "# ---\n",
        "# Checking the datatypes of df variables (columns)\n",
        "# --- \n",
        "# OUR CODE GOES BELOW\n",
        "#\n",
        "df.dtypes"
      ],
      "execution_count": 0,
      "outputs": []
    },
    {
      "cell_type": "code",
      "metadata": {
        "id": "G3koGy_RATgd",
        "colab_type": "code",
        "colab": {}
      },
      "source": [
        "# Challenge 2d\n",
        "# ---\n",
        "# Question: Check the datatypes of the video games dataset.\n",
        "# ---\n",
        "# OUR CODE GOES BELOW\n",
        "# \n"
      ],
      "execution_count": 0,
      "outputs": []
    },
    {
      "cell_type": "markdown",
      "metadata": {
        "id": "jmQzRWnBAUip",
        "colab_type": "text"
      },
      "source": [
        "## 3. Missing Data"
      ]
    },
    {
      "cell_type": "code",
      "metadata": {
        "id": "d2e_4DahAZ1L",
        "colab_type": "code",
        "colab": {}
      },
      "source": [
        "# Example 3a\n",
        "# ---\n",
        "# Checking for missing data\n",
        "# NB: This method may not be the most convenient. Why? \n",
        "# --- \n",
        "# \n",
        "# We can check if there is any missing values in the entire dataframe as shown \n",
        "# ---\n",
        "# OUR CODE GOES BELOW\n",
        "# \n",
        "df.isnull()"
      ],
      "execution_count": 0,
      "outputs": []
    },
    {
      "cell_type": "code",
      "metadata": {
        "id": "lzLGQemeAZtn",
        "colab_type": "code",
        "colab": {}
      },
      "source": [
        "# Example 3b\n",
        "# --- \n",
        "# We can also check for missing values in each column \n",
        "# ---\n",
        "# OUR CODE GOES BELOW\n",
        "#\n",
        "df.isnull().any()"
      ],
      "execution_count": 0,
      "outputs": []
    },
    {
      "cell_type": "code",
      "metadata": {
        "id": "1q6GrIVILiQb",
        "colab_type": "code",
        "colab": {}
      },
      "source": [
        "# Example 3c\n",
        "# ---\n",
        "# We can check how many missing values there are across each column by \n",
        "# ---\n",
        "# OUR CODE GOES BELOW\n",
        "#\n",
        "df.isnull().sum()"
      ],
      "execution_count": 0,
      "outputs": []
    },
    {
      "cell_type": "code",
      "metadata": {
        "id": "6c26TzAbLljF",
        "colab_type": "code",
        "colab": {}
      },
      "source": [
        "# Example 3d\n",
        "# ---\n",
        "# We can also check to see if we have any missing values in the dataframe  \n",
        "# ---\n",
        "# OUR CODE GOES BELOW\n",
        "#\n",
        "print(df.isnull().values.any())"
      ],
      "execution_count": 0,
      "outputs": []
    },
    {
      "cell_type": "code",
      "metadata": {
        "id": "L_qoob_9LnZP",
        "colab_type": "code",
        "colab": {}
      },
      "source": [
        "# Example 3e: Method 1\n",
        "# ---\n",
        "# Dealing with the missing data\n",
        "# ---\n",
        "# OUR CODE GOES BELOW\n",
        "# \n",
        "\n",
        "# We can drop the missing observations \n",
        "# ---\n",
        "#\n",
        "df_no_missing = df.dropna()\n",
        "\n",
        "# Checking for missing data\n",
        "df_no_missing.isnull().sum()"
      ],
      "execution_count": 0,
      "outputs": []
    },
    {
      "cell_type": "code",
      "metadata": {
        "id": "cg4-ef-sLqlb",
        "colab_type": "code",
        "colab": {}
      },
      "source": [
        "# Example 3e: Method 2\n",
        "# ---\n",
        "# We can drop rows where all cells in that row is NA\n",
        "# ---\n",
        "# OUR CODE GOES BELOW\n",
        "# \n",
        "df_cleaned = df.dropna(how='all')\n",
        "\n",
        "# Checking the shape of our dataset\n",
        "df_cleaned.shape"
      ],
      "execution_count": 0,
      "outputs": []
    },
    {
      "cell_type": "code",
      "metadata": {
        "id": "UxfcpIWILsHF",
        "colab_type": "code",
        "colab": {}
      },
      "source": [
        "# Example 3e: Method 3\n",
        "# ---\n",
        "# We could drop columns if they only contain missing values\n",
        "# ---\n",
        "# OUR CODE GOES BELOW\n",
        "# \n",
        "df_without_columns = df.dropna(axis=1, how='all')\n",
        "\n",
        "# Checking the shape of our dataset\n",
        "df_without_columns.shape"
      ],
      "execution_count": 0,
      "outputs": []
    },
    {
      "cell_type": "code",
      "metadata": {
        "id": "5nRHn99xLuGU",
        "colab_type": "code",
        "colab": {}
      },
      "source": [
        "# Example 3e: Method 4\n",
        "# ---\n",
        "# We could drop rows that contain less than five observations\n",
        "# ---\n",
        "# OUR CODE GOES BELOW\n",
        "# \n",
        "df.dropna(thresh=5)\n",
        "\n",
        "# Checking the shape of our dataset\n",
        "df.shape\n",
        "\n",
        "\n",
        "# Further reading\n",
        "# ----\n",
        "# Above are only a few methods of dealing with missing data. "
      ],
      "execution_count": 0,
      "outputs": []
    },
    {
      "cell_type": "code",
      "metadata": {
        "id": "LHVLpO6bLt9r",
        "colab_type": "code",
        "colab": {}
      },
      "source": [
        "# Challenge 3a\n",
        "# ---\n",
        "# Question: Find the missing values in the video games datset below\n",
        "# You can use any of the above methods to you see fit.\n",
        "# ---  \n",
        "# OUR CODE GOES BELOW\n",
        "# "
      ],
      "execution_count": 0,
      "outputs": []
    },
    {
      "cell_type": "code",
      "metadata": {
        "id": "VIaciSKTMCRl",
        "colab_type": "code",
        "colab": {}
      },
      "source": [
        "# Challenge 3b\n",
        "# ---\n",
        "# Question: Handle the missing values in video games dataset\n",
        "# You can any of the above methods that you see fit.\n",
        "# ---\n",
        "# OUR CODE GOES BELOW\n",
        "# \n"
      ],
      "execution_count": 0,
      "outputs": []
    },
    {
      "cell_type": "markdown",
      "metadata": {
        "id": "SZOg8AbeAaub",
        "colab_type": "text"
      },
      "source": [
        "## 4. Filtering"
      ]
    },
    {
      "cell_type": "code",
      "metadata": {
        "id": "hlWrf44NAecP",
        "colab_type": "code",
        "colab": {}
      },
      "source": [
        "# Example 4a\n",
        "# ---\n",
        "# Selecting rows when columns contain certain values\n",
        "# ---\n",
        "# NB: Selecting records where petal_length is 5.0 \n",
        "# ---\n",
        "# OUR CODE GOES BELOW\n",
        "# \n",
        "\n",
        "# Selecting the records where column has certain values \n",
        "# ---\n",
        "#\n",
        "df[df.petal_length.isin(['5.0'])]"
      ],
      "execution_count": 0,
      "outputs": []
    },
    {
      "cell_type": "code",
      "metadata": {
        "id": "48D2vBZuEukC",
        "colab_type": "code",
        "colab": {}
      },
      "source": [
        "# Challenge 4a\n",
        "# ---\n",
        "# Question: Select records where the sepal_width is 3.0\n",
        "# ---\n",
        "# OUR CODE GOES BELOW\n",
        "# \n"
      ],
      "execution_count": 0,
      "outputs": []
    },
    {
      "cell_type": "code",
      "metadata": {
        "id": "lQoQq-nfAjL7",
        "colab_type": "code",
        "colab": {}
      },
      "source": [
        "# Example 4b\n",
        "# ---\n",
        "# Selecting the records where column doesn't have certain values \n",
        "# in our case, where petal_leghth is not 5.0\n",
        "# ---\n",
        "# OUR CODE GOES BELOW\n",
        "# \n",
        "\n",
        "df[~df.petal_length.isin(['5.0'])]"
      ],
      "execution_count": 0,
      "outputs": []
    },
    {
      "cell_type": "code",
      "metadata": {
        "id": "C5IPcb_bEv_B",
        "colab_type": "code",
        "colab": {}
      },
      "source": [
        "# Challenge 4b\n",
        "# ---\n",
        "# Question: Select all the Sports video games from the video games dataset.\n",
        "# ---\n",
        "# OUR CODE GOES BELOW\n",
        "# \n"
      ],
      "execution_count": 0,
      "outputs": []
    },
    {
      "cell_type": "code",
      "metadata": {
        "id": "JDnwO9TSHy3j",
        "colab_type": "code",
        "colab": {}
      },
      "source": [
        "# Example 4c\n",
        "# ---\n",
        "# Selecting records using filters where petal_width greater than 1.9\n",
        "# ---\n",
        "# OUR CODE GOES BELOW\n",
        "# \n",
        "\n",
        "df[(df['petal_width'] > 1.9)]"
      ],
      "execution_count": 0,
      "outputs": []
    },
    {
      "cell_type": "code",
      "metadata": {
        "id": "bYeaoRAIH0vO",
        "colab_type": "code",
        "colab": {}
      },
      "source": [
        "# Challenge 4c\n",
        "# ---\n",
        "# Question: Which video games had global sales greater than 50?\n",
        "# ---\n",
        "# OUR CODE GOES BELOW\n",
        "# \n"
      ],
      "execution_count": 0,
      "outputs": []
    },
    {
      "cell_type": "markdown",
      "metadata": {
        "id": "-1tL9P5BAhWS",
        "colab_type": "text"
      },
      "source": [
        "## 5. Sorting"
      ]
    },
    {
      "cell_type": "code",
      "metadata": {
        "id": "QgC9N1_DAjq3",
        "colab_type": "code",
        "colab": {}
      },
      "source": [
        "# Example 5a\n",
        "# --- \n",
        "# Load the given dataframe in ascending order by reports \n",
        "# ---\n",
        "# OUR CODE GOES BELOW\n",
        "# \n",
        " \n",
        "# Sorting our dataset in ascending order by sepal_length\n",
        "# ---\n",
        "# \n",
        "df.sort_values(by='sepal_length', ascending=1)"
      ],
      "execution_count": 0,
      "outputs": []
    },
    {
      "cell_type": "code",
      "metadata": {
        "id": "too5E8HVBJSk",
        "colab_type": "code",
        "colab": {}
      },
      "source": [
        "# Challenge 5a \n",
        "# --- \n",
        "# Load the video games dataframe in descending order by Name.\n",
        "# Hint: ascending = 0 \n",
        "# ---\n",
        "# OUR CODE GOES BELOW\n",
        "# "
      ],
      "execution_count": 0,
      "outputs": []
    },
    {
      "cell_type": "markdown",
      "metadata": {
        "id": "bISArgNWBxR-",
        "colab_type": "text"
      },
      "source": [
        "## 6. Splitting, Merging and Concatenation"
      ]
    },
    {
      "cell_type": "code",
      "metadata": {
        "id": "zceIjjUiBy5A",
        "colab_type": "code",
        "colab": {}
      },
      "source": [
        "# Example 6a\n",
        "# --- \n",
        "# Split the dataframe species column into two columns by using the \"-\" character\n",
        "# ---\n",
        "# OUR CODE GOES BELOW\n",
        "# \n",
        " \n",
        "# Dropping null value columns to avoid errors \n",
        "df.dropna(inplace = True) \n",
        "  \n",
        "# New data frame with split value columns \n",
        "new_df = df[\"species\"].str.split(\"-\", n = 1, expand = True) \n",
        "  \n",
        "# Naking separate first name column from new data frame \n",
        "df[\"family\"]= new_df[0] \n",
        "  \n",
        "# Making separate last name column from new data frame \n",
        "df[\"sub-species\"]= new_df[1] \n",
        "  \n",
        "# Dropping old Name columns \n",
        "df.drop(columns =[\"species\"], inplace = True) \n",
        "  \n",
        "# Displaying our dataframe\n",
        "df "
      ],
      "execution_count": 0,
      "outputs": []
    },
    {
      "cell_type": "code",
      "metadata": {
        "id": "BwGSNkqz02qp",
        "colab_type": "code",
        "colab": {}
      },
      "source": [
        "# Example 2\n",
        "# ---\n",
        "# Concatenating (merging) two columns in a dataframe\n",
        "# ---  \n",
        "# OUR CODE GOES BELOW\n",
        "# \n",
        "\n",
        "# Concatenating our column\n",
        "# \n",
        "df['species'] = df['family'].str.cat(df['sub-species'],sep=\"-\")\n",
        "\n",
        "# Dropping old name columns \n",
        "#\n",
        "df.drop(columns = [\"family\", \"sub-species\"], inplace = True) \n",
        "\n",
        "# Previewing our new dataframe\n",
        "#\n",
        "df.head()"
      ],
      "execution_count": 0,
      "outputs": []
    },
    {
      "cell_type": "code",
      "metadata": {
        "id": "HEZyhikz3con",
        "colab_type": "code",
        "colab": {}
      },
      "source": [
        "# Challenge 6a\n",
        "# --- \n",
        "# Concatenate the the city and state columns from the dataset below. \n",
        "# The resulting region column should have city and state seperated by a comma and whitespace.\n",
        "# ---\n",
        "# Dataset url = http://bit.ly/SchoolShootingsDataset\n",
        "# ---\n",
        "# Step 1: Load the dataset\n",
        "# Step 2: Preview the dataset \n",
        "# Step 3: Perform your concatenation\n",
        "# Step 4: Dropping old columns\n",
        "# Step 4: Preview your final dataframe\n",
        "# ---\n",
        "# OUR CODE GOES BELOW\n",
        "# \n"
      ],
      "execution_count": 0,
      "outputs": []
    },
    {
      "cell_type": "code",
      "metadata": {
        "id": "rzPzBmYTPaSC",
        "colab_type": "code",
        "colab": {}
      },
      "source": [
        "# Example 6b\n",
        "# ---\n",
        "# Merging two dataframes. \n",
        "# In this example, we will create two simple dataframes for demonstration purposes.\n",
        "# ---  \n",
        "# OUR CODE GOES BELOW\n",
        "# \n",
        "\n",
        "# Let's create our first dataframe and preview it\n",
        "# \n",
        "df1 = pd.DataFrame([[2, 3], [41, 51]], columns=['a', 'b'])\n",
        "df1.head()"
      ],
      "execution_count": 0,
      "outputs": []
    },
    {
      "cell_type": "code",
      "metadata": {
        "id": "di8xE4ToPb7_",
        "colab_type": "code",
        "colab": {}
      },
      "source": [
        " # Let our second dataframe and preview it\n",
        "#\n",
        "df2 = pd.DataFrame([[2, 5], [41, 6]], columns=['a', 'c'])\n",
        "df2.head()"
      ],
      "execution_count": 0,
      "outputs": []
    },
    {
      "cell_type": "code",
      "metadata": {
        "id": "BQ8fDmmkzhEl",
        "colab_type": "code",
        "colab": {}
      },
      "source": [
        "# Merging our dataframes and storing our resulting dataframe in df3, then previewing it \n",
        "# \n",
        "df3 = df1.merge(df2, how='left', on='a') \n",
        "df3.head()"
      ],
      "execution_count": 0,
      "outputs": []
    },
    {
      "cell_type": "code",
      "metadata": {
        "id": "gSVuIQojFFBR",
        "colab_type": "code",
        "colab": {}
      },
      "source": [
        "# Challenge 6b\n",
        "# --- \n",
        "# Merge the following two datasets\n",
        "# ---\n",
        "# Dataset 1 url = http://bit.ly/CItiesDB\n",
        "# Dataset 2 url = http://bit.ly/CountriesDB1\n",
        "# ---\n",
        "# OUR CODE GOES BELOW\n",
        "#  "
      ],
      "execution_count": 0,
      "outputs": []
    },
    {
      "cell_type": "markdown",
      "metadata": {
        "id": "vAuIYctBB1ZX",
        "colab_type": "text"
      },
      "source": [
        "## 7. Exporting Data"
      ]
    },
    {
      "cell_type": "code",
      "metadata": {
        "id": "pMxOj6omB2a_",
        "colab_type": "code",
        "colab": {}
      },
      "source": [
        "# Pre-requisite 7\n",
        "# ---\n",
        "# Importing files module \n",
        "# ---\n",
        "# OUR CODE GOES BELOW\n",
        "#  \n",
        "\n",
        "# Files module will allow us to download our file from colaboratory\n",
        "from google.colab import files"
      ],
      "execution_count": 0,
      "outputs": []
    },
    {
      "cell_type": "code",
      "metadata": {
        "id": "e83--Ka_B21z",
        "colab_type": "code",
        "colab": {}
      },
      "source": [
        "# Example 7a\n",
        "# --- \n",
        "# Load the given dataframe in ascending order by reports \n",
        "# ---\n",
        "# OUR CODE GOES BELOW\n",
        "# \n",
        "  \n",
        "# Create our sample dataframe\n",
        "data = {'name': ['Daniel', 'Joyce', 'Elizabeth', 'Sanni', 'Sefu'], \n",
        "        'year': [2012, 2012, 2013, 2014, 2014], \n",
        "        'reports': [4, 24, 31, 2, 3]}\n",
        "df = pd.DataFrame(data, index = ['Nairobi', 'Cairo', 'Cape Town', 'Adis Ababa', 'Mombasa'])\n",
        "df.head()"
      ],
      "execution_count": 0,
      "outputs": []
    },
    {
      "cell_type": "code",
      "metadata": {
        "id": "aSqkbI0RPoq8",
        "colab_type": "code",
        "colab": {}
      },
      "source": [
        "# Exporting our sample dataframe as a csv\n",
        "# ---\n",
        "# \n",
        " \n",
        "df.to_csv('example.csv') \n",
        "\n",
        "# NB: In order to download our files from colaboratory we need to run the following\n",
        "#\n",
        "files.download('example.csv')"
      ],
      "execution_count": 0,
      "outputs": []
    },
    {
      "cell_type": "code",
      "metadata": {
        "id": "y5RNQvkq3sww",
        "colab_type": "code",
        "colab": {}
      },
      "source": [
        "# Challenge 7a\n",
        "# ---\n",
        "# Question: Export a csv file of your resulting video games dataframe below \n",
        "# --- \n",
        "# OUR CODE GOES BELOW\n",
        "#\n"
      ],
      "execution_count": 0,
      "outputs": []
    },
    {
      "cell_type": "code",
      "metadata": {
        "id": "U5_yqeq9Pq2h",
        "colab_type": "code",
        "colab": {}
      },
      "source": [
        "# Example 7b\n",
        "# ---\n",
        "# Exporting our sample dataframe as a excel file (xlsx)\n",
        "# --- \n",
        "# ---\n",
        "# OUR CODE GOES BELOW\n",
        "#  \n",
        "\n",
        "df.to_excel('example.xlsx') \n",
        "\n",
        "# NB: In order to download our files from colab we need to run the following\n",
        "#\n",
        "files.download('example.xlsx')"
      ],
      "execution_count": 0,
      "outputs": []
    },
    {
      "cell_type": "code",
      "metadata": {
        "id": "a1DnZc-isbs9",
        "colab_type": "code",
        "colab": {}
      },
      "source": [
        "# Challenge 7b\n",
        "# ---\n",
        "# Question: Export an excel file of your resulting video games dataframe below \n",
        "# --- \n",
        "# OUR CODE GOES BELOW\n",
        "#\n"
      ],
      "execution_count": 0,
      "outputs": []
    }
  ]
}